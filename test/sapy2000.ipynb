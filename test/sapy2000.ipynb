{
 "cells": [
  {
   "cell_type": "code",
   "execution_count": 2,
   "metadata": {},
   "outputs": [],
   "source": [
    "%load_ext autoreload\n",
    "%autoreload 2"
   ]
  },
  {
   "cell_type": "code",
   "execution_count": 3,
   "metadata": {},
   "outputs": [],
   "source": [
    "import sapy2000_test"
   ]
  },
  {
   "cell_type": "code",
   "execution_count": 8,
   "metadata": {},
   "outputs": [
    {
     "name": "stdout",
     "output_type": "stream",
     "text": [
      "----- SAP2000 Starting ----- \n",
      "----- Started -----\n"
     ]
    }
   ],
   "source": [
    "sap = sapy2000_test.SAPy2000()"
   ]
  },
  {
   "cell_type": "code",
   "execution_count": 10,
   "metadata": {},
   "outputs": [
    {
     "name": "stdout",
     "output_type": "stream",
     "text": [
      "----- New blank -----\n"
     ]
    }
   ],
   "source": [
    "sap.newModel()"
   ]
  },
  {
   "cell_type": "code",
   "execution_count": 12,
   "metadata": {},
   "outputs": [
    {
     "name": "stdout",
     "output_type": "stream",
     "text": [
      "Units set to: Ton_m_C\n"
     ]
    }
   ],
   "source": [
    "sap.setUnits()"
   ]
  },
  {
   "cell_type": "code",
   "execution_count": 15,
   "metadata": {},
   "outputs": [
    {
     "name": "stdout",
     "output_type": "stream",
     "text": [
      "Material CONCRETE fck=40 megapascal created!\n"
     ]
    }
   ],
   "source": [
    "sap.defineConcrete(fck=40)"
   ]
  },
  {
   "cell_type": "code",
   "execution_count": 20,
   "metadata": {},
   "outputs": [
    {
     "name": "stdout",
     "output_type": "stream",
     "text": [
      "(0, 1, ('Solid_C30',))\n"
     ]
    }
   ],
   "source": [
    "sap.defineSolidProp(matProp='C30')"
   ]
  },
  {
   "cell_type": "code",
   "execution_count": 27,
   "metadata": {},
   "outputs": [
    {
     "name": "stdout",
     "output_type": "stream",
     "text": [
      "(0, (0.0, 0.0, 2.0, 2.0, 0.0, 0.0, 2.0, 2.0), (0.0, 0.0, 0.0, 0.0, 1.0, 1.0, 1.0, 1.0), (0.0, 1.0, 0.0, 1.0, 0.0, 1.0, 0.0, 1.0), '6')\n"
     ]
    }
   ],
   "source": [
    "sap.create_regularSolid(length=2, width=1, height=1, solidProp='Solid_C30')"
   ]
  },
  {
   "cell_type": "code",
   "execution_count": null,
   "metadata": {},
   "outputs": [],
   "source": []
  }
 ],
 "metadata": {
  "kernelspec": {
   "display_name": "SAP",
   "language": "python",
   "name": "sap"
  },
  "language_info": {
   "codemirror_mode": {
    "name": "ipython",
    "version": 3
   },
   "file_extension": ".py",
   "mimetype": "text/x-python",
   "name": "python",
   "nbconvert_exporter": "python",
   "pygments_lexer": "ipython3",
   "version": "3.8.12"
  }
 },
 "nbformat": 4,
 "nbformat_minor": 4
}
